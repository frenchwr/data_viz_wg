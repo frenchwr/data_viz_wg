{
 "cells": [
  {
   "cell_type": "markdown",
   "metadata": {},
   "source": [
    "# Numpy and Pandas Demo\n",
    "\n",
    "This notebook provides a very basic introduction to the Numpy and Pandas Python packages. This notebook must be run with a Jupyter kernel that has Numpy, Pandas, and Matplotlib installed. You can execute the single cell in the following notebook to install suck a kernel:"
   ]
  },
  {
   "cell_type": "markdown",
   "metadata": {},
   "source": [
    "# Numpy\n",
    "\n",
    "Numpy is a popular Python library that is useful for rapid processing of numerical data."
   ]
  },
  {
   "cell_type": "code",
   "execution_count": 1,
   "metadata": {},
   "outputs": [],
   "source": [
    "import numpy as np  # np is now shorthand for \"numpy\" throughout this notebook"
   ]
  },
  {
   "cell_type": "code",
   "execution_count": 2,
   "metadata": {},
   "outputs": [],
   "source": [
    "x = [] # this is a traditional Python list\n",
    "for xi in range(10000):\n",
    "    x.append(xi)"
   ]
  },
  {
   "cell_type": "code",
   "execution_count": 3,
   "metadata": {},
   "outputs": [],
   "source": [
    "y = np.asarray(x) # now we are converting this list to a numpy array"
   ]
  },
  {
   "cell_type": "markdown",
   "metadata": {},
   "source": [
    "One of the primary advantages of Numpy is its speed. Let's compare the processing time of a Numpy array versus a traditional Python list."
   ]
  },
  {
   "cell_type": "code",
   "execution_count": 4,
   "metadata": {},
   "outputs": [
    {
     "name": "stdout",
     "output_type": "stream",
     "text": [
      "CPU times: user 901 µs, sys: 0 ns, total: 901 µs\n",
      "Wall time: 906 µs\n"
     ]
    }
   ],
   "source": [
    "%%time\n",
    "xnew = [xi*8 for xi in x] # here we use a list comprehension to scale each element of x by 8"
   ]
  },
  {
   "cell_type": "code",
   "execution_count": 5,
   "metadata": {},
   "outputs": [
    {
     "name": "stdout",
     "output_type": "stream",
     "text": [
      "CPU times: user 160 µs, sys: 32 µs, total: 192 µs\n",
      "Wall time: 110 µs\n"
     ]
    }
   ],
   "source": [
    "%%time\n",
    "ynew = y*8  # this scales each element of our numpy array by 8"
   ]
  },
  {
   "cell_type": "markdown",
   "metadata": {},
   "source": [
    "This is a somewhat simple example, the performance differences are often even more dramatic. The reason for these differences is that Numpy was designed from the ground up with performance in mind. The module is actually loaded as a pre-compiled and highly optimized C code. Numpy arrays are also layed out in memory in a more intelligent fashion compared to traditional Python lists."
   ]
  },
  {
   "cell_type": "markdown",
   "metadata": {},
   "source": [
    "## Creating Numpy Arrays"
   ]
  },
  {
   "cell_type": "markdown",
   "metadata": {},
   "source": [
    "Note, much of this tutorial is taken from: http://cs231n.github.io/python-numpy-tutorial/"
   ]
  },
  {
   "cell_type": "code",
   "execution_count": 6,
   "metadata": {},
   "outputs": [
    {
     "name": "stdout",
     "output_type": "stream",
     "text": [
      "[1 2 3]\n",
      "(3,)\n"
     ]
    }
   ],
   "source": [
    "a = np.array([1, 2, 3]) # rank 1 array\n",
    "print(a)\n",
    "print(a.shape)"
   ]
  },
  {
   "cell_type": "code",
   "execution_count": 7,
   "metadata": {},
   "outputs": [
    {
     "name": "stdout",
     "output_type": "stream",
     "text": [
      "[[1 2 3]\n",
      " [4 5 6]]\n",
      "(2, 3)\n"
     ]
    }
   ],
   "source": [
    "b = np.array([[1,2,3],[4,5,6]]) # rank 2 array\n",
    "print(b)\n",
    "print(b.shape)"
   ]
  },
  {
   "cell_type": "code",
   "execution_count": 8,
   "metadata": {},
   "outputs": [
    {
     "name": "stdout",
     "output_type": "stream",
     "text": [
      "[[0. 0.]\n",
      " [0. 0.]]\n"
     ]
    }
   ],
   "source": [
    "c = np.zeros((2,2))\n",
    "print(c)"
   ]
  },
  {
   "cell_type": "code",
   "execution_count": 9,
   "metadata": {},
   "outputs": [
    {
     "name": "stdout",
     "output_type": "stream",
     "text": [
      "[[1. 1.]]\n"
     ]
    }
   ],
   "source": [
    "d = np.ones((1,2))\n",
    "print(d)"
   ]
  },
  {
   "cell_type": "code",
   "execution_count": 10,
   "metadata": {},
   "outputs": [
    {
     "name": "stdout",
     "output_type": "stream",
     "text": [
      "[[7 7]\n",
      " [7 7]]\n"
     ]
    }
   ],
   "source": [
    "e = np.full((2,2), 7)\n",
    "print(e)"
   ]
  },
  {
   "cell_type": "code",
   "execution_count": 11,
   "metadata": {},
   "outputs": [
    {
     "name": "stdout",
     "output_type": "stream",
     "text": [
      "[[0.2103888  0.6619569 ]\n",
      " [0.27561531 0.60409241]]\n"
     ]
    }
   ],
   "source": [
    "f = np.random.random((2,2))\n",
    "print(f)"
   ]
  },
  {
   "cell_type": "markdown",
   "metadata": {},
   "source": [
    "## Slicing and Dicing Data with Numpy"
   ]
  },
  {
   "cell_type": "code",
   "execution_count": 12,
   "metadata": {},
   "outputs": [],
   "source": [
    "a = np.array([[1,2,3,4], [5,6,7,8], [9,10,11,12]])"
   ]
  },
  {
   "cell_type": "code",
   "execution_count": 13,
   "metadata": {},
   "outputs": [
    {
     "name": "stdout",
     "output_type": "stream",
     "text": [
      "1\n"
     ]
    }
   ],
   "source": [
    "print(a[0,0]) # Numpy is zero-indexed, just like normal Python lists!"
   ]
  },
  {
   "cell_type": "code",
   "execution_count": 14,
   "metadata": {},
   "outputs": [
    {
     "name": "stdout",
     "output_type": "stream",
     "text": [
      "12\n"
     ]
    }
   ],
   "source": [
    "print(a[2,3])"
   ]
  },
  {
   "cell_type": "code",
   "execution_count": 15,
   "metadata": {},
   "outputs": [
    {
     "name": "stdout",
     "output_type": "stream",
     "text": [
      "[[2 3]\n",
      " [6 7]]\n"
     ]
    }
   ],
   "source": [
    "b = a[:2, 1:3]  # The first index is requesting the first two rows of array a\n",
    "print(b)"
   ]
  },
  {
   "cell_type": "code",
   "execution_count": 16,
   "metadata": {},
   "outputs": [
    {
     "name": "stdout",
     "output_type": "stream",
     "text": [
      "2\n"
     ]
    }
   ],
   "source": [
    "print(a[0, 1])"
   ]
  },
  {
   "cell_type": "code",
   "execution_count": 17,
   "metadata": {},
   "outputs": [
    {
     "name": "stdout",
     "output_type": "stream",
     "text": [
      "77\n"
     ]
    }
   ],
   "source": [
    "b[0, 0] = 77\n",
    "print(a[0, 1]) # b is effectively a alias for a subset of array a!"
   ]
  },
  {
   "cell_type": "markdown",
   "metadata": {},
   "source": [
    "How would you slice array a to yield the following?\n",
    "* third column ([3 7 11]) of data?\n",
    "* [[7 8] [11 12]]"
   ]
  },
  {
   "cell_type": "code",
   "execution_count": 18,
   "metadata": {},
   "outputs": [
    {
     "name": "stdout",
     "output_type": "stream",
     "text": [
      "[77  9 10 11 12]\n"
     ]
    }
   ],
   "source": [
    "print(a[a>8])  # boolean-based indexing is also possible in Numpy"
   ]
  },
  {
   "cell_type": "markdown",
   "metadata": {},
   "source": [
    "## Mathematical Operations on Numpy Arrays"
   ]
  },
  {
   "cell_type": "code",
   "execution_count": 19,
   "metadata": {},
   "outputs": [
    {
     "name": "stdout",
     "output_type": "stream",
     "text": [
      "[[ 0.84147098  0.99952016  0.14112001 -0.7568025 ]\n",
      " [-0.95892427 -0.2794155   0.6569866   0.98935825]\n",
      " [ 0.41211849 -0.54402111 -0.99999021 -0.53657292]]\n"
     ]
    }
   ],
   "source": [
    "print(np.sin(a))"
   ]
  },
  {
   "cell_type": "markdown",
   "metadata": {},
   "source": [
    "In general, you want to avoid doing mathematical operations within a for loop within Python (true in Matlab and R, as well). Instead, rely on the \"vectorized\" math functions available through Numpy."
   ]
  },
  {
   "cell_type": "code",
   "execution_count": 20,
   "metadata": {},
   "outputs": [
    {
     "name": "stdout",
     "output_type": "stream",
     "text": [
      "10000\n"
     ]
    }
   ],
   "source": [
    "print(y.size)"
   ]
  },
  {
   "cell_type": "code",
   "execution_count": 21,
   "metadata": {},
   "outputs": [
    {
     "name": "stdout",
     "output_type": "stream",
     "text": [
      "CPU times: user 20.7 ms, sys: 0 ns, total: 20.7 ms\n",
      "Wall time: 20.2 ms\n"
     ]
    }
   ],
   "source": [
    "%%time\n",
    "for yi in y:\n",
    "    np.sin(yi)"
   ]
  },
  {
   "cell_type": "code",
   "execution_count": 22,
   "metadata": {},
   "outputs": [
    {
     "name": "stdout",
     "output_type": "stream",
     "text": [
      "CPU times: user 805 µs, sys: 158 µs, total: 963 µs\n",
      "Wall time: 524 µs\n"
     ]
    },
    {
     "data": {
      "text/plain": [
       "array([0.        , 0.84147098, 0.90929743, ..., 0.43692413, 0.99297289,\n",
       "       0.63608696])"
      ]
     },
     "execution_count": 22,
     "metadata": {},
     "output_type": "execute_result"
    }
   ],
   "source": [
    "%%time\n",
    "np.sin(y)  # notice we are now passing the entire array to this function"
   ]
  },
  {
   "cell_type": "markdown",
   "metadata": {},
   "source": [
    "# Pandas"
   ]
  },
  {
   "cell_type": "markdown",
   "metadata": {},
   "source": [
    "Pandas is a Python package designed for working with tabular data. It provides a dataframe-based interface for storing, accessing, and processing data. Pandas makes use of Numpy and Matplotlib internally. A more complete demo of the types of operations that can be performed on a Pandas dataframe, see the following demo: https://pandas.pydata.org/pandas-docs/stable/getting_started/10min.html#min"
   ]
  },
  {
   "cell_type": "markdown",
   "metadata": {},
   "source": [
    "First, let's download some fitbit data from GitHub that we can wrangle into submission."
   ]
  },
  {
   "cell_type": "code",
   "execution_count": 23,
   "metadata": {},
   "outputs": [
    {
     "name": "stdout",
     "output_type": "stream",
     "text": [
      "total 12\n",
      "-rw-r--r-- 1 frenchwr accre 1297 Feb 26 20:11 canopy-comments.txt\n",
      "drwxr-xr-x 2 frenchwr accre   91 Feb 26 20:11 \u001b[0m\u001b[01;34mdata\u001b[0m\n",
      "drwxr-xr-x 2 frenchwr accre  120 Feb 26 20:11 \u001b[01;34mfitbittools\u001b[0m\n",
      "-rw-r--r-- 1 frenchwr accre    0 Feb 26 20:11 __init__.py\n",
      "-rw-r--r-- 1 frenchwr accre  169 Feb 26 20:11 __init__.pyc\n",
      "drwxr-xr-x 2 frenchwr accre  138 Feb 26 20:11 \u001b[01;34mnotebooks\u001b[0m\n",
      "-rw-r--r-- 1 frenchwr accre  765 Feb 26 20:11 README.md\n"
     ]
    },
    {
     "name": "stderr",
     "output_type": "stream",
     "text": [
      "fatal: destination path 'Fitbit' already exists and is not an empty directory.\n"
     ]
    }
   ],
   "source": [
    "%%bash\n",
    "git clone https://github.com/willie8338/Fitbit.git # download some fitbit data\n",
    "ls -l --color Fitbit"
   ]
  },
  {
   "cell_type": "code",
   "execution_count": 24,
   "metadata": {},
   "outputs": [
    {
     "name": "stdout",
     "output_type": "stream",
     "text": [
      "total 20\n",
      "-rw-r--r-- 1 frenchwr accre 4680 Feb 26 20:11 fitbit_export_20140704.csv\n",
      "-rw-r--r-- 1 frenchwr accre 5397 Feb 26 20:11 fitbit_export_20140710.csv\n",
      "-rw-r--r-- 1 frenchwr accre  232 Feb 26 20:11 README.md\n"
     ]
    }
   ],
   "source": [
    "%%bash\n",
    "ls -l --color Fitbit/data"
   ]
  },
  {
   "cell_type": "code",
   "execution_count": 25,
   "metadata": {},
   "outputs": [],
   "source": [
    "import pandas as pd"
   ]
  },
  {
   "cell_type": "code",
   "execution_count": 26,
   "metadata": {},
   "outputs": [],
   "source": [
    "# The CSV has two sections - Activity and Sleep. Let's just focus on the Activity data.\n",
    "# Excel spreadsheets can also be loaded directly into a Pandas dataframe\n",
    "df = pd.read_csv(\"Fitbit/data/fitbit_export_20140710.csv\",skiprows=1,nrows=50,index_col=0)"
   ]
  },
  {
   "cell_type": "code",
   "execution_count": 27,
   "metadata": {
    "scrolled": true
   },
   "outputs": [
    {
     "data": {
      "text/html": [
       "<div>\n",
       "<style scoped>\n",
       "    .dataframe tbody tr th:only-of-type {\n",
       "        vertical-align: middle;\n",
       "    }\n",
       "\n",
       "    .dataframe tbody tr th {\n",
       "        vertical-align: top;\n",
       "    }\n",
       "\n",
       "    .dataframe thead th {\n",
       "        text-align: right;\n",
       "    }\n",
       "</style>\n",
       "<table border=\"1\" class=\"dataframe\">\n",
       "  <thead>\n",
       "    <tr style=\"text-align: right;\">\n",
       "      <th></th>\n",
       "      <th>Calories Burned</th>\n",
       "      <th>Steps</th>\n",
       "      <th>Distance</th>\n",
       "      <th>Floors</th>\n",
       "      <th>Minutes Sedentary</th>\n",
       "      <th>Minutes Lightly Active</th>\n",
       "      <th>Minutes Fairly Active</th>\n",
       "      <th>Minutes Very Active</th>\n",
       "      <th>Activity Calories</th>\n",
       "    </tr>\n",
       "    <tr>\n",
       "      <th>Date</th>\n",
       "      <th></th>\n",
       "      <th></th>\n",
       "      <th></th>\n",
       "      <th></th>\n",
       "      <th></th>\n",
       "      <th></th>\n",
       "      <th></th>\n",
       "      <th></th>\n",
       "      <th></th>\n",
       "    </tr>\n",
       "  </thead>\n",
       "  <tbody>\n",
       "    <tr>\n",
       "      <th>2014-05-22</th>\n",
       "      <td>2,763</td>\n",
       "      <td>15,072</td>\n",
       "      <td>6.96</td>\n",
       "      <td>14</td>\n",
       "      <td>1,120</td>\n",
       "      <td>95</td>\n",
       "      <td>77</td>\n",
       "      <td>74</td>\n",
       "      <td>1,351</td>\n",
       "    </tr>\n",
       "    <tr>\n",
       "      <th>2014-05-23</th>\n",
       "      <td>2,324</td>\n",
       "      <td>8,306</td>\n",
       "      <td>3.81</td>\n",
       "      <td>9</td>\n",
       "      <td>778</td>\n",
       "      <td>122</td>\n",
       "      <td>63</td>\n",
       "      <td>23</td>\n",
       "      <td>867</td>\n",
       "    </tr>\n",
       "    <tr>\n",
       "      <th>2014-05-24</th>\n",
       "      <td>2,640</td>\n",
       "      <td>13,103</td>\n",
       "      <td>6.01</td>\n",
       "      <td>50</td>\n",
       "      <td>584</td>\n",
       "      <td>165</td>\n",
       "      <td>77</td>\n",
       "      <td>48</td>\n",
       "      <td>1,280</td>\n",
       "    </tr>\n",
       "    <tr>\n",
       "      <th>2014-05-25</th>\n",
       "      <td>2,329</td>\n",
       "      <td>7,992</td>\n",
       "      <td>3.66</td>\n",
       "      <td>16</td>\n",
       "      <td>707</td>\n",
       "      <td>187</td>\n",
       "      <td>61</td>\n",
       "      <td>11</td>\n",
       "      <td>932</td>\n",
       "    </tr>\n",
       "    <tr>\n",
       "      <th>2014-05-26</th>\n",
       "      <td>2,774</td>\n",
       "      <td>12,727</td>\n",
       "      <td>5.84</td>\n",
       "      <td>19</td>\n",
       "      <td>436</td>\n",
       "      <td>264</td>\n",
       "      <td>111</td>\n",
       "      <td>26</td>\n",
       "      <td>1,546</td>\n",
       "    </tr>\n",
       "  </tbody>\n",
       "</table>\n",
       "</div>"
      ],
      "text/plain": [
       "           Calories Burned   Steps  Distance  Floors Minutes Sedentary  \\\n",
       "Date                                                                     \n",
       "2014-05-22           2,763  15,072      6.96      14             1,120   \n",
       "2014-05-23           2,324   8,306      3.81       9               778   \n",
       "2014-05-24           2,640  13,103      6.01      50               584   \n",
       "2014-05-25           2,329   7,992      3.66      16               707   \n",
       "2014-05-26           2,774  12,727      5.84      19               436   \n",
       "\n",
       "            Minutes Lightly Active  Minutes Fairly Active  \\\n",
       "Date                                                        \n",
       "2014-05-22                      95                     77   \n",
       "2014-05-23                     122                     63   \n",
       "2014-05-24                     165                     77   \n",
       "2014-05-25                     187                     61   \n",
       "2014-05-26                     264                    111   \n",
       "\n",
       "            Minutes Very Active Activity Calories  \n",
       "Date                                               \n",
       "2014-05-22                   74             1,351  \n",
       "2014-05-23                   23               867  \n",
       "2014-05-24                   48             1,280  \n",
       "2014-05-25                   11               932  \n",
       "2014-05-26                   26             1,546  "
      ]
     },
     "execution_count": 27,
     "metadata": {},
     "output_type": "execute_result"
    }
   ],
   "source": [
    "df.head()"
   ]
  },
  {
   "cell_type": "code",
   "execution_count": 28,
   "metadata": {
    "scrolled": true
   },
   "outputs": [
    {
     "data": {
      "text/html": [
       "<div>\n",
       "<style scoped>\n",
       "    .dataframe tbody tr th:only-of-type {\n",
       "        vertical-align: middle;\n",
       "    }\n",
       "\n",
       "    .dataframe tbody tr th {\n",
       "        vertical-align: top;\n",
       "    }\n",
       "\n",
       "    .dataframe thead th {\n",
       "        text-align: right;\n",
       "    }\n",
       "</style>\n",
       "<table border=\"1\" class=\"dataframe\">\n",
       "  <thead>\n",
       "    <tr style=\"text-align: right;\">\n",
       "      <th></th>\n",
       "      <th>Calories Burned</th>\n",
       "      <th>Steps</th>\n",
       "      <th>Distance</th>\n",
       "      <th>Floors</th>\n",
       "      <th>Minutes Sedentary</th>\n",
       "      <th>Minutes Lightly Active</th>\n",
       "      <th>Minutes Fairly Active</th>\n",
       "      <th>Minutes Very Active</th>\n",
       "      <th>Activity Calories</th>\n",
       "    </tr>\n",
       "    <tr>\n",
       "      <th>Date</th>\n",
       "      <th></th>\n",
       "      <th></th>\n",
       "      <th></th>\n",
       "      <th></th>\n",
       "      <th></th>\n",
       "      <th></th>\n",
       "      <th></th>\n",
       "      <th></th>\n",
       "      <th></th>\n",
       "    </tr>\n",
       "  </thead>\n",
       "  <tbody>\n",
       "    <tr>\n",
       "      <th>2014-07-06</th>\n",
       "      <td>2,160</td>\n",
       "      <td>3,974</td>\n",
       "      <td>1.82</td>\n",
       "      <td>8</td>\n",
       "      <td>683</td>\n",
       "      <td>169</td>\n",
       "      <td>37</td>\n",
       "      <td>3</td>\n",
       "      <td>705</td>\n",
       "    </tr>\n",
       "    <tr>\n",
       "      <th>2014-07-07</th>\n",
       "      <td>2,488</td>\n",
       "      <td>10,549</td>\n",
       "      <td>4.84</td>\n",
       "      <td>21</td>\n",
       "      <td>724</td>\n",
       "      <td>137</td>\n",
       "      <td>84</td>\n",
       "      <td>30</td>\n",
       "      <td>1,082</td>\n",
       "    </tr>\n",
       "    <tr>\n",
       "      <th>2014-07-08</th>\n",
       "      <td>2,315</td>\n",
       "      <td>9,710</td>\n",
       "      <td>4.45</td>\n",
       "      <td>16</td>\n",
       "      <td>1,148</td>\n",
       "      <td>84</td>\n",
       "      <td>91</td>\n",
       "      <td>16</td>\n",
       "      <td>838</td>\n",
       "    </tr>\n",
       "    <tr>\n",
       "      <th>2014-07-09</th>\n",
       "      <td>2,194</td>\n",
       "      <td>6,426</td>\n",
       "      <td>2.95</td>\n",
       "      <td>17</td>\n",
       "      <td>785</td>\n",
       "      <td>100</td>\n",
       "      <td>62</td>\n",
       "      <td>10</td>\n",
       "      <td>694</td>\n",
       "    </tr>\n",
       "    <tr>\n",
       "      <th>2014-07-10</th>\n",
       "      <td>1,949</td>\n",
       "      <td>10,538</td>\n",
       "      <td>4.83</td>\n",
       "      <td>4</td>\n",
       "      <td>433</td>\n",
       "      <td>97</td>\n",
       "      <td>51</td>\n",
       "      <td>54</td>\n",
       "      <td>1,053</td>\n",
       "    </tr>\n",
       "  </tbody>\n",
       "</table>\n",
       "</div>"
      ],
      "text/plain": [
       "           Calories Burned   Steps  Distance  Floors Minutes Sedentary  \\\n",
       "Date                                                                     \n",
       "2014-07-06           2,160   3,974      1.82       8               683   \n",
       "2014-07-07           2,488  10,549      4.84      21               724   \n",
       "2014-07-08           2,315   9,710      4.45      16             1,148   \n",
       "2014-07-09           2,194   6,426      2.95      17               785   \n",
       "2014-07-10           1,949  10,538      4.83       4               433   \n",
       "\n",
       "            Minutes Lightly Active  Minutes Fairly Active  \\\n",
       "Date                                                        \n",
       "2014-07-06                     169                     37   \n",
       "2014-07-07                     137                     84   \n",
       "2014-07-08                      84                     91   \n",
       "2014-07-09                     100                     62   \n",
       "2014-07-10                      97                     51   \n",
       "\n",
       "            Minutes Very Active Activity Calories  \n",
       "Date                                               \n",
       "2014-07-06                    3               705  \n",
       "2014-07-07                   30             1,082  \n",
       "2014-07-08                   16               838  \n",
       "2014-07-09                   10               694  \n",
       "2014-07-10                   54             1,053  "
      ]
     },
     "execution_count": 28,
     "metadata": {},
     "output_type": "execute_result"
    }
   ],
   "source": [
    "df.tail()"
   ]
  },
  {
   "cell_type": "code",
   "execution_count": 29,
   "metadata": {},
   "outputs": [
    {
     "data": {
      "text/plain": [
       "Index(['2014-05-22', '2014-05-23', '2014-05-24', '2014-05-25', '2014-05-26',\n",
       "       '2014-05-27', '2014-05-28', '2014-05-29', '2014-05-30', '2014-05-31',\n",
       "       '2014-06-01', '2014-06-02', '2014-06-03', '2014-06-04', '2014-06-05',\n",
       "       '2014-06-06', '2014-06-07', '2014-06-08', '2014-06-09', '2014-06-10',\n",
       "       '2014-06-11', '2014-06-12', '2014-06-13', '2014-06-14', '2014-06-15',\n",
       "       '2014-06-16', '2014-06-17', '2014-06-18', '2014-06-19', '2014-06-20',\n",
       "       '2014-06-21', '2014-06-22', '2014-06-23', '2014-06-24', '2014-06-25',\n",
       "       '2014-06-26', '2014-06-27', '2014-06-28', '2014-06-29', '2014-06-30',\n",
       "       '2014-07-01', '2014-07-02', '2014-07-03', '2014-07-04', '2014-07-05',\n",
       "       '2014-07-06', '2014-07-07', '2014-07-08', '2014-07-09', '2014-07-10'],\n",
       "      dtype='object', name='Date')"
      ]
     },
     "execution_count": 29,
     "metadata": {},
     "output_type": "execute_result"
    }
   ],
   "source": [
    "df.index"
   ]
  },
  {
   "cell_type": "code",
   "execution_count": 30,
   "metadata": {},
   "outputs": [
    {
     "data": {
      "text/plain": [
       "DatetimeIndex(['2014-05-22', '2014-05-23', '2014-05-24', '2014-05-25',\n",
       "               '2014-05-26', '2014-05-27', '2014-05-28', '2014-05-29',\n",
       "               '2014-05-30', '2014-05-31', '2014-06-01', '2014-06-02',\n",
       "               '2014-06-03', '2014-06-04', '2014-06-05', '2014-06-06',\n",
       "               '2014-06-07', '2014-06-08', '2014-06-09', '2014-06-10',\n",
       "               '2014-06-11', '2014-06-12', '2014-06-13', '2014-06-14',\n",
       "               '2014-06-15', '2014-06-16', '2014-06-17', '2014-06-18',\n",
       "               '2014-06-19', '2014-06-20', '2014-06-21', '2014-06-22',\n",
       "               '2014-06-23', '2014-06-24', '2014-06-25', '2014-06-26',\n",
       "               '2014-06-27', '2014-06-28', '2014-06-29', '2014-06-30',\n",
       "               '2014-07-01', '2014-07-02', '2014-07-03', '2014-07-04',\n",
       "               '2014-07-05', '2014-07-06', '2014-07-07', '2014-07-08',\n",
       "               '2014-07-09', '2014-07-10'],\n",
       "              dtype='datetime64[ns]', name='Date', freq=None)"
      ]
     },
     "execution_count": 30,
     "metadata": {},
     "output_type": "execute_result"
    }
   ],
   "source": [
    "# Let's convert our index to a datatime type, which is more fully featured\n",
    "df.index = pd.to_datetime(df.index)\n",
    "df.index"
   ]
  },
  {
   "cell_type": "code",
   "execution_count": 31,
   "metadata": {},
   "outputs": [
    {
     "data": {
      "text/plain": [
       "Calories Burned            object\n",
       "Steps                      object\n",
       "Distance                  float64\n",
       "Floors                      int64\n",
       "Minutes Sedentary          object\n",
       "Minutes Lightly Active      int64\n",
       "Minutes Fairly Active       int64\n",
       "Minutes Very Active         int64\n",
       "Activity Calories          object\n",
       "dtype: object"
      ]
     },
     "execution_count": 31,
     "metadata": {},
     "output_type": "execute_result"
    }
   ],
   "source": [
    "df.dtypes"
   ]
  },
  {
   "cell_type": "code",
   "execution_count": 32,
   "metadata": {},
   "outputs": [
    {
     "data": {
      "text/plain": [
       "Index(['Calories Burned', 'Steps', 'Distance', 'Floors', 'Minutes Sedentary',\n",
       "       'Minutes Lightly Active', 'Minutes Fairly Active',\n",
       "       'Minutes Very Active', 'Activity Calories'],\n",
       "      dtype='object')"
      ]
     },
     "execution_count": 32,
     "metadata": {},
     "output_type": "execute_result"
    }
   ],
   "source": [
    "df.columns"
   ]
  },
  {
   "cell_type": "markdown",
   "metadata": {},
   "source": [
    "Notice that the CSV uses commas when values are > 999. This can cause issues, so let's remove those first and convert the type float."
   ]
  },
  {
   "cell_type": "code",
   "execution_count": 33,
   "metadata": {},
   "outputs": [],
   "source": [
    "for c in df.columns:\n",
    "    if (df[c].dtype == object):\n",
    "        df[c] = df[c].str.replace(',','')\n",
    "        df[c] = df[c].astype(float)"
   ]
  },
  {
   "cell_type": "code",
   "execution_count": 34,
   "metadata": {},
   "outputs": [
    {
     "data": {
      "text/html": [
       "<div>\n",
       "<style scoped>\n",
       "    .dataframe tbody tr th:only-of-type {\n",
       "        vertical-align: middle;\n",
       "    }\n",
       "\n",
       "    .dataframe tbody tr th {\n",
       "        vertical-align: top;\n",
       "    }\n",
       "\n",
       "    .dataframe thead th {\n",
       "        text-align: right;\n",
       "    }\n",
       "</style>\n",
       "<table border=\"1\" class=\"dataframe\">\n",
       "  <thead>\n",
       "    <tr style=\"text-align: right;\">\n",
       "      <th></th>\n",
       "      <th>Calories Burned</th>\n",
       "      <th>Steps</th>\n",
       "      <th>Distance</th>\n",
       "      <th>Floors</th>\n",
       "      <th>Minutes Sedentary</th>\n",
       "      <th>Minutes Lightly Active</th>\n",
       "      <th>Minutes Fairly Active</th>\n",
       "      <th>Minutes Very Active</th>\n",
       "      <th>Activity Calories</th>\n",
       "    </tr>\n",
       "    <tr>\n",
       "      <th>Date</th>\n",
       "      <th></th>\n",
       "      <th></th>\n",
       "      <th></th>\n",
       "      <th></th>\n",
       "      <th></th>\n",
       "      <th></th>\n",
       "      <th></th>\n",
       "      <th></th>\n",
       "      <th></th>\n",
       "    </tr>\n",
       "  </thead>\n",
       "  <tbody>\n",
       "    <tr>\n",
       "      <th>2014-05-22</th>\n",
       "      <td>2763.0</td>\n",
       "      <td>15072.0</td>\n",
       "      <td>6.96</td>\n",
       "      <td>14</td>\n",
       "      <td>1120.0</td>\n",
       "      <td>95</td>\n",
       "      <td>77</td>\n",
       "      <td>74</td>\n",
       "      <td>1351.0</td>\n",
       "    </tr>\n",
       "    <tr>\n",
       "      <th>2014-05-23</th>\n",
       "      <td>2324.0</td>\n",
       "      <td>8306.0</td>\n",
       "      <td>3.81</td>\n",
       "      <td>9</td>\n",
       "      <td>778.0</td>\n",
       "      <td>122</td>\n",
       "      <td>63</td>\n",
       "      <td>23</td>\n",
       "      <td>867.0</td>\n",
       "    </tr>\n",
       "    <tr>\n",
       "      <th>2014-05-24</th>\n",
       "      <td>2640.0</td>\n",
       "      <td>13103.0</td>\n",
       "      <td>6.01</td>\n",
       "      <td>50</td>\n",
       "      <td>584.0</td>\n",
       "      <td>165</td>\n",
       "      <td>77</td>\n",
       "      <td>48</td>\n",
       "      <td>1280.0</td>\n",
       "    </tr>\n",
       "    <tr>\n",
       "      <th>2014-05-25</th>\n",
       "      <td>2329.0</td>\n",
       "      <td>7992.0</td>\n",
       "      <td>3.66</td>\n",
       "      <td>16</td>\n",
       "      <td>707.0</td>\n",
       "      <td>187</td>\n",
       "      <td>61</td>\n",
       "      <td>11</td>\n",
       "      <td>932.0</td>\n",
       "    </tr>\n",
       "    <tr>\n",
       "      <th>2014-05-26</th>\n",
       "      <td>2774.0</td>\n",
       "      <td>12727.0</td>\n",
       "      <td>5.84</td>\n",
       "      <td>19</td>\n",
       "      <td>436.0</td>\n",
       "      <td>264</td>\n",
       "      <td>111</td>\n",
       "      <td>26</td>\n",
       "      <td>1546.0</td>\n",
       "    </tr>\n",
       "  </tbody>\n",
       "</table>\n",
       "</div>"
      ],
      "text/plain": [
       "            Calories Burned    Steps  Distance  Floors  Minutes Sedentary  \\\n",
       "Date                                                                        \n",
       "2014-05-22           2763.0  15072.0      6.96      14             1120.0   \n",
       "2014-05-23           2324.0   8306.0      3.81       9              778.0   \n",
       "2014-05-24           2640.0  13103.0      6.01      50              584.0   \n",
       "2014-05-25           2329.0   7992.0      3.66      16              707.0   \n",
       "2014-05-26           2774.0  12727.0      5.84      19              436.0   \n",
       "\n",
       "            Minutes Lightly Active  Minutes Fairly Active  \\\n",
       "Date                                                        \n",
       "2014-05-22                      95                     77   \n",
       "2014-05-23                     122                     63   \n",
       "2014-05-24                     165                     77   \n",
       "2014-05-25                     187                     61   \n",
       "2014-05-26                     264                    111   \n",
       "\n",
       "            Minutes Very Active  Activity Calories  \n",
       "Date                                                \n",
       "2014-05-22                   74             1351.0  \n",
       "2014-05-23                   23              867.0  \n",
       "2014-05-24                   48             1280.0  \n",
       "2014-05-25                   11              932.0  \n",
       "2014-05-26                   26             1546.0  "
      ]
     },
     "execution_count": 34,
     "metadata": {},
     "output_type": "execute_result"
    }
   ],
   "source": [
    "df.head()"
   ]
  },
  {
   "cell_type": "markdown",
   "metadata": {},
   "source": [
    "Pandas dataframes provide a rich set of SQL-like functionality. Try typing \"df.\" and then the tab key to see a drop down menu of the various operations that can be applied to your dataframe. The describe() method is great for generating a quick overview of your data:"
   ]
  },
  {
   "cell_type": "code",
   "execution_count": 35,
   "metadata": {},
   "outputs": [
    {
     "data": {
      "text/html": [
       "<div>\n",
       "<style scoped>\n",
       "    .dataframe tbody tr th:only-of-type {\n",
       "        vertical-align: middle;\n",
       "    }\n",
       "\n",
       "    .dataframe tbody tr th {\n",
       "        vertical-align: top;\n",
       "    }\n",
       "\n",
       "    .dataframe thead th {\n",
       "        text-align: right;\n",
       "    }\n",
       "</style>\n",
       "<table border=\"1\" class=\"dataframe\">\n",
       "  <thead>\n",
       "    <tr style=\"text-align: right;\">\n",
       "      <th></th>\n",
       "      <th>Calories Burned</th>\n",
       "      <th>Steps</th>\n",
       "      <th>Distance</th>\n",
       "      <th>Floors</th>\n",
       "      <th>Minutes Sedentary</th>\n",
       "      <th>Minutes Lightly Active</th>\n",
       "      <th>Minutes Fairly Active</th>\n",
       "      <th>Minutes Very Active</th>\n",
       "      <th>Activity Calories</th>\n",
       "    </tr>\n",
       "  </thead>\n",
       "  <tbody>\n",
       "    <tr>\n",
       "      <th>count</th>\n",
       "      <td>50.000000</td>\n",
       "      <td>50.000000</td>\n",
       "      <td>50.000000</td>\n",
       "      <td>50.000000</td>\n",
       "      <td>50.000000</td>\n",
       "      <td>50.000000</td>\n",
       "      <td>50.000000</td>\n",
       "      <td>50.000000</td>\n",
       "      <td>50.000000</td>\n",
       "    </tr>\n",
       "    <tr>\n",
       "      <th>mean</th>\n",
       "      <td>2459.500000</td>\n",
       "      <td>10199.420000</td>\n",
       "      <td>4.685000</td>\n",
       "      <td>13.620000</td>\n",
       "      <td>726.200000</td>\n",
       "      <td>129.280000</td>\n",
       "      <td>73.260000</td>\n",
       "      <td>33.080000</td>\n",
       "      <td>1046.860000</td>\n",
       "    </tr>\n",
       "    <tr>\n",
       "      <th>std</th>\n",
       "      <td>293.277903</td>\n",
       "      <td>4386.698573</td>\n",
       "      <td>2.017137</td>\n",
       "      <td>16.241657</td>\n",
       "      <td>128.768579</td>\n",
       "      <td>50.932544</td>\n",
       "      <td>27.431406</td>\n",
       "      <td>29.586842</td>\n",
       "      <td>341.939069</td>\n",
       "    </tr>\n",
       "    <tr>\n",
       "      <th>min</th>\n",
       "      <td>1949.000000</td>\n",
       "      <td>3390.000000</td>\n",
       "      <td>1.550000</td>\n",
       "      <td>0.000000</td>\n",
       "      <td>433.000000</td>\n",
       "      <td>65.000000</td>\n",
       "      <td>22.000000</td>\n",
       "      <td>0.000000</td>\n",
       "      <td>478.000000</td>\n",
       "    </tr>\n",
       "    <tr>\n",
       "      <th>25%</th>\n",
       "      <td>2251.500000</td>\n",
       "      <td>7149.000000</td>\n",
       "      <td>3.275000</td>\n",
       "      <td>7.250000</td>\n",
       "      <td>660.250000</td>\n",
       "      <td>89.500000</td>\n",
       "      <td>55.250000</td>\n",
       "      <td>10.250000</td>\n",
       "      <td>818.500000</td>\n",
       "    </tr>\n",
       "    <tr>\n",
       "      <th>50%</th>\n",
       "      <td>2373.500000</td>\n",
       "      <td>9132.500000</td>\n",
       "      <td>4.195000</td>\n",
       "      <td>10.000000</td>\n",
       "      <td>725.000000</td>\n",
       "      <td>112.000000</td>\n",
       "      <td>70.500000</td>\n",
       "      <td>23.500000</td>\n",
       "      <td>968.500000</td>\n",
       "    </tr>\n",
       "    <tr>\n",
       "      <th>75%</th>\n",
       "      <td>2628.000000</td>\n",
       "      <td>13010.000000</td>\n",
       "      <td>5.975000</td>\n",
       "      <td>16.000000</td>\n",
       "      <td>769.750000</td>\n",
       "      <td>166.500000</td>\n",
       "      <td>90.750000</td>\n",
       "      <td>49.500000</td>\n",
       "      <td>1251.000000</td>\n",
       "    </tr>\n",
       "    <tr>\n",
       "      <th>max</th>\n",
       "      <td>3084.000000</td>\n",
       "      <td>20417.000000</td>\n",
       "      <td>9.400000</td>\n",
       "      <td>111.000000</td>\n",
       "      <td>1148.000000</td>\n",
       "      <td>273.000000</td>\n",
       "      <td>177.000000</td>\n",
       "      <td>101.000000</td>\n",
       "      <td>1845.000000</td>\n",
       "    </tr>\n",
       "  </tbody>\n",
       "</table>\n",
       "</div>"
      ],
      "text/plain": [
       "       Calories Burned         Steps   Distance      Floors  \\\n",
       "count        50.000000     50.000000  50.000000   50.000000   \n",
       "mean       2459.500000  10199.420000   4.685000   13.620000   \n",
       "std         293.277903   4386.698573   2.017137   16.241657   \n",
       "min        1949.000000   3390.000000   1.550000    0.000000   \n",
       "25%        2251.500000   7149.000000   3.275000    7.250000   \n",
       "50%        2373.500000   9132.500000   4.195000   10.000000   \n",
       "75%        2628.000000  13010.000000   5.975000   16.000000   \n",
       "max        3084.000000  20417.000000   9.400000  111.000000   \n",
       "\n",
       "       Minutes Sedentary  Minutes Lightly Active  Minutes Fairly Active  \\\n",
       "count          50.000000               50.000000              50.000000   \n",
       "mean          726.200000              129.280000              73.260000   \n",
       "std           128.768579               50.932544              27.431406   \n",
       "min           433.000000               65.000000              22.000000   \n",
       "25%           660.250000               89.500000              55.250000   \n",
       "50%           725.000000              112.000000              70.500000   \n",
       "75%           769.750000              166.500000              90.750000   \n",
       "max          1148.000000              273.000000             177.000000   \n",
       "\n",
       "       Minutes Very Active  Activity Calories  \n",
       "count            50.000000          50.000000  \n",
       "mean             33.080000        1046.860000  \n",
       "std              29.586842         341.939069  \n",
       "min               0.000000         478.000000  \n",
       "25%              10.250000         818.500000  \n",
       "50%              23.500000         968.500000  \n",
       "75%              49.500000        1251.000000  \n",
       "max             101.000000        1845.000000  "
      ]
     },
     "execution_count": 35,
     "metadata": {},
     "output_type": "execute_result"
    }
   ],
   "source": [
    "df.describe()"
   ]
  },
  {
   "cell_type": "code",
   "execution_count": 36,
   "metadata": {},
   "outputs": [
    {
     "data": {
      "text/html": [
       "<div>\n",
       "<style scoped>\n",
       "    .dataframe tbody tr th:only-of-type {\n",
       "        vertical-align: middle;\n",
       "    }\n",
       "\n",
       "    .dataframe tbody tr th {\n",
       "        vertical-align: top;\n",
       "    }\n",
       "\n",
       "    .dataframe thead th {\n",
       "        text-align: right;\n",
       "    }\n",
       "</style>\n",
       "<table border=\"1\" class=\"dataframe\">\n",
       "  <thead>\n",
       "    <tr style=\"text-align: right;\">\n",
       "      <th></th>\n",
       "      <th>Calories Burned</th>\n",
       "      <th>Steps</th>\n",
       "      <th>Distance</th>\n",
       "      <th>Floors</th>\n",
       "      <th>Minutes Sedentary</th>\n",
       "      <th>Minutes Lightly Active</th>\n",
       "      <th>Minutes Fairly Active</th>\n",
       "      <th>Minutes Very Active</th>\n",
       "      <th>Activity Calories</th>\n",
       "    </tr>\n",
       "    <tr>\n",
       "      <th>Date</th>\n",
       "      <th></th>\n",
       "      <th></th>\n",
       "      <th></th>\n",
       "      <th></th>\n",
       "      <th></th>\n",
       "      <th></th>\n",
       "      <th></th>\n",
       "      <th></th>\n",
       "      <th></th>\n",
       "    </tr>\n",
       "  </thead>\n",
       "  <tbody>\n",
       "    <tr>\n",
       "      <th>2014-06-27</th>\n",
       "      <td>3084.0</td>\n",
       "      <td>20417.0</td>\n",
       "      <td>9.40</td>\n",
       "      <td>5</td>\n",
       "      <td>650.0</td>\n",
       "      <td>86</td>\n",
       "      <td>105</td>\n",
       "      <td>101</td>\n",
       "      <td>1727.0</td>\n",
       "    </tr>\n",
       "    <tr>\n",
       "      <th>2014-07-01</th>\n",
       "      <td>3030.0</td>\n",
       "      <td>19928.0</td>\n",
       "      <td>9.16</td>\n",
       "      <td>17</td>\n",
       "      <td>1039.0</td>\n",
       "      <td>100</td>\n",
       "      <td>103</td>\n",
       "      <td>95</td>\n",
       "      <td>1679.0</td>\n",
       "    </tr>\n",
       "    <tr>\n",
       "      <th>2014-05-29</th>\n",
       "      <td>3056.0</td>\n",
       "      <td>19463.0</td>\n",
       "      <td>8.93</td>\n",
       "      <td>3</td>\n",
       "      <td>624.0</td>\n",
       "      <td>91</td>\n",
       "      <td>100</td>\n",
       "      <td>98</td>\n",
       "      <td>1695.0</td>\n",
       "    </tr>\n",
       "    <tr>\n",
       "      <th>2014-06-06</th>\n",
       "      <td>2954.0</td>\n",
       "      <td>18470.0</td>\n",
       "      <td>8.47</td>\n",
       "      <td>4</td>\n",
       "      <td>655.0</td>\n",
       "      <td>83</td>\n",
       "      <td>87</td>\n",
       "      <td>94</td>\n",
       "      <td>1564.0</td>\n",
       "    </tr>\n",
       "    <tr>\n",
       "      <th>2014-06-14</th>\n",
       "      <td>3026.0</td>\n",
       "      <td>17984.0</td>\n",
       "      <td>8.25</td>\n",
       "      <td>10</td>\n",
       "      <td>498.0</td>\n",
       "      <td>233</td>\n",
       "      <td>177</td>\n",
       "      <td>31</td>\n",
       "      <td>1845.0</td>\n",
       "    </tr>\n",
       "    <tr>\n",
       "      <th>2014-06-13</th>\n",
       "      <td>2970.0</td>\n",
       "      <td>16158.0</td>\n",
       "      <td>7.43</td>\n",
       "      <td>3</td>\n",
       "      <td>661.0</td>\n",
       "      <td>179</td>\n",
       "      <td>67</td>\n",
       "      <td>85</td>\n",
       "      <td>1659.0</td>\n",
       "    </tr>\n",
       "    <tr>\n",
       "      <th>2014-05-22</th>\n",
       "      <td>2763.0</td>\n",
       "      <td>15072.0</td>\n",
       "      <td>6.96</td>\n",
       "      <td>14</td>\n",
       "      <td>1120.0</td>\n",
       "      <td>95</td>\n",
       "      <td>77</td>\n",
       "      <td>74</td>\n",
       "      <td>1351.0</td>\n",
       "    </tr>\n",
       "    <tr>\n",
       "      <th>2014-06-24</th>\n",
       "      <td>2866.0</td>\n",
       "      <td>14866.0</td>\n",
       "      <td>6.83</td>\n",
       "      <td>16</td>\n",
       "      <td>650.0</td>\n",
       "      <td>134</td>\n",
       "      <td>87</td>\n",
       "      <td>73</td>\n",
       "      <td>1511.0</td>\n",
       "    </tr>\n",
       "    <tr>\n",
       "      <th>2014-06-10</th>\n",
       "      <td>2790.0</td>\n",
       "      <td>14267.0</td>\n",
       "      <td>6.54</td>\n",
       "      <td>10</td>\n",
       "      <td>651.0</td>\n",
       "      <td>123</td>\n",
       "      <td>78</td>\n",
       "      <td>68</td>\n",
       "      <td>1405.0</td>\n",
       "    </tr>\n",
       "    <tr>\n",
       "      <th>2014-07-03</th>\n",
       "      <td>2773.0</td>\n",
       "      <td>14136.0</td>\n",
       "      <td>6.48</td>\n",
       "      <td>10</td>\n",
       "      <td>693.0</td>\n",
       "      <td>110</td>\n",
       "      <td>65</td>\n",
       "      <td>76</td>\n",
       "      <td>1367.0</td>\n",
       "    </tr>\n",
       "    <tr>\n",
       "      <th>2014-06-25</th>\n",
       "      <td>2576.0</td>\n",
       "      <td>14100.0</td>\n",
       "      <td>6.52</td>\n",
       "      <td>111</td>\n",
       "      <td>760.0</td>\n",
       "      <td>106</td>\n",
       "      <td>101</td>\n",
       "      <td>39</td>\n",
       "      <td>1164.0</td>\n",
       "    </tr>\n",
       "    <tr>\n",
       "      <th>2014-06-04</th>\n",
       "      <td>2592.0</td>\n",
       "      <td>13188.0</td>\n",
       "      <td>6.05</td>\n",
       "      <td>18</td>\n",
       "      <td>742.0</td>\n",
       "      <td>87</td>\n",
       "      <td>90</td>\n",
       "      <td>50</td>\n",
       "      <td>1158.0</td>\n",
       "    </tr>\n",
       "    <tr>\n",
       "      <th>2014-05-24</th>\n",
       "      <td>2640.0</td>\n",
       "      <td>13103.0</td>\n",
       "      <td>6.01</td>\n",
       "      <td>50</td>\n",
       "      <td>584.0</td>\n",
       "      <td>165</td>\n",
       "      <td>77</td>\n",
       "      <td>48</td>\n",
       "      <td>1280.0</td>\n",
       "    </tr>\n",
       "    <tr>\n",
       "      <th>2014-05-27</th>\n",
       "      <td>2767.0</td>\n",
       "      <td>12731.0</td>\n",
       "      <td>5.87</td>\n",
       "      <td>8</td>\n",
       "      <td>747.0</td>\n",
       "      <td>126</td>\n",
       "      <td>40</td>\n",
       "      <td>81</td>\n",
       "      <td>1357.0</td>\n",
       "    </tr>\n",
       "    <tr>\n",
       "      <th>2014-05-26</th>\n",
       "      <td>2774.0</td>\n",
       "      <td>12727.0</td>\n",
       "      <td>5.84</td>\n",
       "      <td>19</td>\n",
       "      <td>436.0</td>\n",
       "      <td>264</td>\n",
       "      <td>111</td>\n",
       "      <td>26</td>\n",
       "      <td>1546.0</td>\n",
       "    </tr>\n",
       "    <tr>\n",
       "      <th>2014-06-03</th>\n",
       "      <td>2563.0</td>\n",
       "      <td>11834.0</td>\n",
       "      <td>5.47</td>\n",
       "      <td>6</td>\n",
       "      <td>685.0</td>\n",
       "      <td>100</td>\n",
       "      <td>68</td>\n",
       "      <td>51</td>\n",
       "      <td>1119.0</td>\n",
       "    </tr>\n",
       "    <tr>\n",
       "      <th>2014-05-28</th>\n",
       "      <td>2461.0</td>\n",
       "      <td>11453.0</td>\n",
       "      <td>5.27</td>\n",
       "      <td>14</td>\n",
       "      <td>805.0</td>\n",
       "      <td>65</td>\n",
       "      <td>94</td>\n",
       "      <td>38</td>\n",
       "      <td>991.0</td>\n",
       "    </tr>\n",
       "    <tr>\n",
       "      <th>2014-07-07</th>\n",
       "      <td>2488.0</td>\n",
       "      <td>10549.0</td>\n",
       "      <td>4.84</td>\n",
       "      <td>21</td>\n",
       "      <td>724.0</td>\n",
       "      <td>137</td>\n",
       "      <td>84</td>\n",
       "      <td>30</td>\n",
       "      <td>1082.0</td>\n",
       "    </tr>\n",
       "    <tr>\n",
       "      <th>2014-07-10</th>\n",
       "      <td>1949.0</td>\n",
       "      <td>10538.0</td>\n",
       "      <td>4.83</td>\n",
       "      <td>4</td>\n",
       "      <td>433.0</td>\n",
       "      <td>97</td>\n",
       "      <td>51</td>\n",
       "      <td>54</td>\n",
       "      <td>1053.0</td>\n",
       "    </tr>\n",
       "    <tr>\n",
       "      <th>2014-06-08</th>\n",
       "      <td>2378.0</td>\n",
       "      <td>10506.0</td>\n",
       "      <td>4.82</td>\n",
       "      <td>29</td>\n",
       "      <td>660.0</td>\n",
       "      <td>110</td>\n",
       "      <td>83</td>\n",
       "      <td>23</td>\n",
       "      <td>931.0</td>\n",
       "    </tr>\n",
       "    <tr>\n",
       "      <th>2014-06-21</th>\n",
       "      <td>2478.0</td>\n",
       "      <td>10485.0</td>\n",
       "      <td>4.81</td>\n",
       "      <td>12</td>\n",
       "      <td>701.0</td>\n",
       "      <td>137</td>\n",
       "      <td>99</td>\n",
       "      <td>22</td>\n",
       "      <td>1081.0</td>\n",
       "    </tr>\n",
       "    <tr>\n",
       "      <th>2014-07-02</th>\n",
       "      <td>2350.0</td>\n",
       "      <td>9845.0</td>\n",
       "      <td>4.51</td>\n",
       "      <td>12</td>\n",
       "      <td>749.0</td>\n",
       "      <td>128</td>\n",
       "      <td>87</td>\n",
       "      <td>10</td>\n",
       "      <td>914.0</td>\n",
       "    </tr>\n",
       "    <tr>\n",
       "      <th>2014-06-22</th>\n",
       "      <td>2473.0</td>\n",
       "      <td>9753.0</td>\n",
       "      <td>4.47</td>\n",
       "      <td>9</td>\n",
       "      <td>667.0</td>\n",
       "      <td>116</td>\n",
       "      <td>123</td>\n",
       "      <td>14</td>\n",
       "      <td>1070.0</td>\n",
       "    </tr>\n",
       "    <tr>\n",
       "      <th>2014-07-08</th>\n",
       "      <td>2315.0</td>\n",
       "      <td>9710.0</td>\n",
       "      <td>4.45</td>\n",
       "      <td>16</td>\n",
       "      <td>1148.0</td>\n",
       "      <td>84</td>\n",
       "      <td>91</td>\n",
       "      <td>16</td>\n",
       "      <td>838.0</td>\n",
       "    </tr>\n",
       "    <tr>\n",
       "      <th>2014-06-09</th>\n",
       "      <td>2265.0</td>\n",
       "      <td>9273.0</td>\n",
       "      <td>4.27</td>\n",
       "      <td>11</td>\n",
       "      <td>738.0</td>\n",
       "      <td>69</td>\n",
       "      <td>64</td>\n",
       "      <td>27</td>\n",
       "      <td>751.0</td>\n",
       "    </tr>\n",
       "    <tr>\n",
       "      <th>2014-06-20</th>\n",
       "      <td>2339.0</td>\n",
       "      <td>8992.0</td>\n",
       "      <td>4.12</td>\n",
       "      <td>13</td>\n",
       "      <td>804.0</td>\n",
       "      <td>87</td>\n",
       "      <td>76</td>\n",
       "      <td>25</td>\n",
       "      <td>859.0</td>\n",
       "    </tr>\n",
       "    <tr>\n",
       "      <th>2014-06-12</th>\n",
       "      <td>2247.0</td>\n",
       "      <td>8676.0</td>\n",
       "      <td>3.98</td>\n",
       "      <td>3</td>\n",
       "      <td>742.0</td>\n",
       "      <td>68</td>\n",
       "      <td>54</td>\n",
       "      <td>30</td>\n",
       "      <td>724.0</td>\n",
       "    </tr>\n",
       "    <tr>\n",
       "      <th>2014-06-26</th>\n",
       "      <td>2288.0</td>\n",
       "      <td>8530.0</td>\n",
       "      <td>3.93</td>\n",
       "      <td>14</td>\n",
       "      <td>763.0</td>\n",
       "      <td>91</td>\n",
       "      <td>73</td>\n",
       "      <td>20</td>\n",
       "      <td>803.0</td>\n",
       "    </tr>\n",
       "    <tr>\n",
       "      <th>2014-06-28</th>\n",
       "      <td>2363.0</td>\n",
       "      <td>8497.0</td>\n",
       "      <td>3.90</td>\n",
       "      <td>12</td>\n",
       "      <td>639.0</td>\n",
       "      <td>176</td>\n",
       "      <td>94</td>\n",
       "      <td>1</td>\n",
       "      <td>981.0</td>\n",
       "    </tr>\n",
       "    <tr>\n",
       "      <th>2014-06-29</th>\n",
       "      <td>2414.0</td>\n",
       "      <td>8403.0</td>\n",
       "      <td>3.85</td>\n",
       "      <td>10</td>\n",
       "      <td>692.0</td>\n",
       "      <td>167</td>\n",
       "      <td>92</td>\n",
       "      <td>8</td>\n",
       "      <td>1027.0</td>\n",
       "    </tr>\n",
       "    <tr>\n",
       "      <th>2014-06-17</th>\n",
       "      <td>2335.0</td>\n",
       "      <td>8349.0</td>\n",
       "      <td>3.83</td>\n",
       "      <td>13</td>\n",
       "      <td>770.0</td>\n",
       "      <td>97</td>\n",
       "      <td>59</td>\n",
       "      <td>31</td>\n",
       "      <td>854.0</td>\n",
       "    </tr>\n",
       "    <tr>\n",
       "      <th>2014-05-23</th>\n",
       "      <td>2324.0</td>\n",
       "      <td>8306.0</td>\n",
       "      <td>3.81</td>\n",
       "      <td>9</td>\n",
       "      <td>778.0</td>\n",
       "      <td>122</td>\n",
       "      <td>63</td>\n",
       "      <td>23</td>\n",
       "      <td>867.0</td>\n",
       "    </tr>\n",
       "    <tr>\n",
       "      <th>2014-06-15</th>\n",
       "      <td>2437.0</td>\n",
       "      <td>8302.0</td>\n",
       "      <td>3.81</td>\n",
       "      <td>8</td>\n",
       "      <td>641.0</td>\n",
       "      <td>147</td>\n",
       "      <td>91</td>\n",
       "      <td>14</td>\n",
       "      <td>1033.0</td>\n",
       "    </tr>\n",
       "    <tr>\n",
       "      <th>2014-05-25</th>\n",
       "      <td>2329.0</td>\n",
       "      <td>7992.0</td>\n",
       "      <td>3.66</td>\n",
       "      <td>16</td>\n",
       "      <td>707.0</td>\n",
       "      <td>187</td>\n",
       "      <td>61</td>\n",
       "      <td>11</td>\n",
       "      <td>932.0</td>\n",
       "    </tr>\n",
       "    <tr>\n",
       "      <th>2014-06-05</th>\n",
       "      <td>2369.0</td>\n",
       "      <td>7821.0</td>\n",
       "      <td>3.62</td>\n",
       "      <td>10</td>\n",
       "      <td>725.0</td>\n",
       "      <td>114</td>\n",
       "      <td>68</td>\n",
       "      <td>28</td>\n",
       "      <td>915.0</td>\n",
       "    </tr>\n",
       "    <tr>\n",
       "      <th>2014-07-05</th>\n",
       "      <td>2175.0</td>\n",
       "      <td>7401.0</td>\n",
       "      <td>3.39</td>\n",
       "      <td>20</td>\n",
       "      <td>769.0</td>\n",
       "      <td>96</td>\n",
       "      <td>58</td>\n",
       "      <td>13</td>\n",
       "      <td>670.0</td>\n",
       "    </tr>\n",
       "    <tr>\n",
       "      <th>2014-06-30</th>\n",
       "      <td>2379.0</td>\n",
       "      <td>7182.0</td>\n",
       "      <td>3.29</td>\n",
       "      <td>10</td>\n",
       "      <td>780.0</td>\n",
       "      <td>162</td>\n",
       "      <td>52</td>\n",
       "      <td>23</td>\n",
       "      <td>956.0</td>\n",
       "    </tr>\n",
       "    <tr>\n",
       "      <th>2014-07-04</th>\n",
       "      <td>2291.0</td>\n",
       "      <td>7138.0</td>\n",
       "      <td>3.27</td>\n",
       "      <td>9</td>\n",
       "      <td>732.0</td>\n",
       "      <td>171</td>\n",
       "      <td>61</td>\n",
       "      <td>7</td>\n",
       "      <td>871.0</td>\n",
       "    </tr>\n",
       "    <tr>\n",
       "      <th>2014-06-16</th>\n",
       "      <td>2176.0</td>\n",
       "      <td>6897.0</td>\n",
       "      <td>3.16</td>\n",
       "      <td>9</td>\n",
       "      <td>725.0</td>\n",
       "      <td>89</td>\n",
       "      <td>56</td>\n",
       "      <td>14</td>\n",
       "      <td>661.0</td>\n",
       "    </tr>\n",
       "    <tr>\n",
       "      <th>2014-06-11</th>\n",
       "      <td>2198.0</td>\n",
       "      <td>6831.0</td>\n",
       "      <td>3.13</td>\n",
       "      <td>17</td>\n",
       "      <td>816.0</td>\n",
       "      <td>85</td>\n",
       "      <td>45</td>\n",
       "      <td>24</td>\n",
       "      <td>677.0</td>\n",
       "    </tr>\n",
       "    <tr>\n",
       "      <th>2014-06-07</th>\n",
       "      <td>2315.0</td>\n",
       "      <td>6695.0</td>\n",
       "      <td>3.07</td>\n",
       "      <td>22</td>\n",
       "      <td>736.0</td>\n",
       "      <td>182</td>\n",
       "      <td>81</td>\n",
       "      <td>0</td>\n",
       "      <td>924.0</td>\n",
       "    </tr>\n",
       "    <tr>\n",
       "      <th>2014-07-09</th>\n",
       "      <td>2194.0</td>\n",
       "      <td>6426.0</td>\n",
       "      <td>2.95</td>\n",
       "      <td>17</td>\n",
       "      <td>785.0</td>\n",
       "      <td>100</td>\n",
       "      <td>62</td>\n",
       "      <td>10</td>\n",
       "      <td>694.0</td>\n",
       "    </tr>\n",
       "    <tr>\n",
       "      <th>2014-06-23</th>\n",
       "      <td>2194.0</td>\n",
       "      <td>6290.0</td>\n",
       "      <td>2.88</td>\n",
       "      <td>7</td>\n",
       "      <td>771.0</td>\n",
       "      <td>82</td>\n",
       "      <td>48</td>\n",
       "      <td>22</td>\n",
       "      <td>671.0</td>\n",
       "    </tr>\n",
       "    <tr>\n",
       "      <th>2014-06-01</th>\n",
       "      <td>2383.0</td>\n",
       "      <td>5283.0</td>\n",
       "      <td>2.42</td>\n",
       "      <td>2</td>\n",
       "      <td>624.0</td>\n",
       "      <td>273</td>\n",
       "      <td>55</td>\n",
       "      <td>0</td>\n",
       "      <td>1069.0</td>\n",
       "    </tr>\n",
       "    <tr>\n",
       "      <th>2014-05-30</th>\n",
       "      <td>2246.0</td>\n",
       "      <td>5155.0</td>\n",
       "      <td>2.36</td>\n",
       "      <td>8</td>\n",
       "      <td>742.0</td>\n",
       "      <td>195</td>\n",
       "      <td>43</td>\n",
       "      <td>6</td>\n",
       "      <td>832.0</td>\n",
       "    </tr>\n",
       "    <tr>\n",
       "      <th>2014-06-02</th>\n",
       "      <td>2229.0</td>\n",
       "      <td>5088.0</td>\n",
       "      <td>2.40</td>\n",
       "      <td>6</td>\n",
       "      <td>686.0</td>\n",
       "      <td>209</td>\n",
       "      <td>29</td>\n",
       "      <td>5</td>\n",
       "      <td>814.0</td>\n",
       "    </tr>\n",
       "    <tr>\n",
       "      <th>2014-06-18</th>\n",
       "      <td>2035.0</td>\n",
       "      <td>4085.0</td>\n",
       "      <td>1.87</td>\n",
       "      <td>1</td>\n",
       "      <td>819.0</td>\n",
       "      <td>78</td>\n",
       "      <td>37</td>\n",
       "      <td>8</td>\n",
       "      <td>478.0</td>\n",
       "    </tr>\n",
       "    <tr>\n",
       "      <th>2014-07-06</th>\n",
       "      <td>2160.0</td>\n",
       "      <td>3974.0</td>\n",
       "      <td>1.82</td>\n",
       "      <td>8</td>\n",
       "      <td>683.0</td>\n",
       "      <td>169</td>\n",
       "      <td>37</td>\n",
       "      <td>3</td>\n",
       "      <td>705.0</td>\n",
       "    </tr>\n",
       "    <tr>\n",
       "      <th>2014-06-19</th>\n",
       "      <td>2029.0</td>\n",
       "      <td>3712.0</td>\n",
       "      <td>1.70</td>\n",
       "      <td>5</td>\n",
       "      <td>837.0</td>\n",
       "      <td>88</td>\n",
       "      <td>37</td>\n",
       "      <td>4</td>\n",
       "      <td>479.0</td>\n",
       "    </tr>\n",
       "    <tr>\n",
       "      <th>2014-05-31</th>\n",
       "      <td>2145.0</td>\n",
       "      <td>3390.0</td>\n",
       "      <td>1.55</td>\n",
       "      <td>0</td>\n",
       "      <td>724.0</td>\n",
       "      <td>204</td>\n",
       "      <td>22</td>\n",
       "      <td>0</td>\n",
       "      <td>709.0</td>\n",
       "    </tr>\n",
       "  </tbody>\n",
       "</table>\n",
       "</div>"
      ],
      "text/plain": [
       "            Calories Burned    Steps  Distance  Floors  Minutes Sedentary  \\\n",
       "Date                                                                        \n",
       "2014-06-27           3084.0  20417.0      9.40       5              650.0   \n",
       "2014-07-01           3030.0  19928.0      9.16      17             1039.0   \n",
       "2014-05-29           3056.0  19463.0      8.93       3              624.0   \n",
       "2014-06-06           2954.0  18470.0      8.47       4              655.0   \n",
       "2014-06-14           3026.0  17984.0      8.25      10              498.0   \n",
       "2014-06-13           2970.0  16158.0      7.43       3              661.0   \n",
       "2014-05-22           2763.0  15072.0      6.96      14             1120.0   \n",
       "2014-06-24           2866.0  14866.0      6.83      16              650.0   \n",
       "2014-06-10           2790.0  14267.0      6.54      10              651.0   \n",
       "2014-07-03           2773.0  14136.0      6.48      10              693.0   \n",
       "2014-06-25           2576.0  14100.0      6.52     111              760.0   \n",
       "2014-06-04           2592.0  13188.0      6.05      18              742.0   \n",
       "2014-05-24           2640.0  13103.0      6.01      50              584.0   \n",
       "2014-05-27           2767.0  12731.0      5.87       8              747.0   \n",
       "2014-05-26           2774.0  12727.0      5.84      19              436.0   \n",
       "2014-06-03           2563.0  11834.0      5.47       6              685.0   \n",
       "2014-05-28           2461.0  11453.0      5.27      14              805.0   \n",
       "2014-07-07           2488.0  10549.0      4.84      21              724.0   \n",
       "2014-07-10           1949.0  10538.0      4.83       4              433.0   \n",
       "2014-06-08           2378.0  10506.0      4.82      29              660.0   \n",
       "2014-06-21           2478.0  10485.0      4.81      12              701.0   \n",
       "2014-07-02           2350.0   9845.0      4.51      12              749.0   \n",
       "2014-06-22           2473.0   9753.0      4.47       9              667.0   \n",
       "2014-07-08           2315.0   9710.0      4.45      16             1148.0   \n",
       "2014-06-09           2265.0   9273.0      4.27      11              738.0   \n",
       "2014-06-20           2339.0   8992.0      4.12      13              804.0   \n",
       "2014-06-12           2247.0   8676.0      3.98       3              742.0   \n",
       "2014-06-26           2288.0   8530.0      3.93      14              763.0   \n",
       "2014-06-28           2363.0   8497.0      3.90      12              639.0   \n",
       "2014-06-29           2414.0   8403.0      3.85      10              692.0   \n",
       "2014-06-17           2335.0   8349.0      3.83      13              770.0   \n",
       "2014-05-23           2324.0   8306.0      3.81       9              778.0   \n",
       "2014-06-15           2437.0   8302.0      3.81       8              641.0   \n",
       "2014-05-25           2329.0   7992.0      3.66      16              707.0   \n",
       "2014-06-05           2369.0   7821.0      3.62      10              725.0   \n",
       "2014-07-05           2175.0   7401.0      3.39      20              769.0   \n",
       "2014-06-30           2379.0   7182.0      3.29      10              780.0   \n",
       "2014-07-04           2291.0   7138.0      3.27       9              732.0   \n",
       "2014-06-16           2176.0   6897.0      3.16       9              725.0   \n",
       "2014-06-11           2198.0   6831.0      3.13      17              816.0   \n",
       "2014-06-07           2315.0   6695.0      3.07      22              736.0   \n",
       "2014-07-09           2194.0   6426.0      2.95      17              785.0   \n",
       "2014-06-23           2194.0   6290.0      2.88       7              771.0   \n",
       "2014-06-01           2383.0   5283.0      2.42       2              624.0   \n",
       "2014-05-30           2246.0   5155.0      2.36       8              742.0   \n",
       "2014-06-02           2229.0   5088.0      2.40       6              686.0   \n",
       "2014-06-18           2035.0   4085.0      1.87       1              819.0   \n",
       "2014-07-06           2160.0   3974.0      1.82       8              683.0   \n",
       "2014-06-19           2029.0   3712.0      1.70       5              837.0   \n",
       "2014-05-31           2145.0   3390.0      1.55       0              724.0   \n",
       "\n",
       "            Minutes Lightly Active  Minutes Fairly Active  \\\n",
       "Date                                                        \n",
       "2014-06-27                      86                    105   \n",
       "2014-07-01                     100                    103   \n",
       "2014-05-29                      91                    100   \n",
       "2014-06-06                      83                     87   \n",
       "2014-06-14                     233                    177   \n",
       "2014-06-13                     179                     67   \n",
       "2014-05-22                      95                     77   \n",
       "2014-06-24                     134                     87   \n",
       "2014-06-10                     123                     78   \n",
       "2014-07-03                     110                     65   \n",
       "2014-06-25                     106                    101   \n",
       "2014-06-04                      87                     90   \n",
       "2014-05-24                     165                     77   \n",
       "2014-05-27                     126                     40   \n",
       "2014-05-26                     264                    111   \n",
       "2014-06-03                     100                     68   \n",
       "2014-05-28                      65                     94   \n",
       "2014-07-07                     137                     84   \n",
       "2014-07-10                      97                     51   \n",
       "2014-06-08                     110                     83   \n",
       "2014-06-21                     137                     99   \n",
       "2014-07-02                     128                     87   \n",
       "2014-06-22                     116                    123   \n",
       "2014-07-08                      84                     91   \n",
       "2014-06-09                      69                     64   \n",
       "2014-06-20                      87                     76   \n",
       "2014-06-12                      68                     54   \n",
       "2014-06-26                      91                     73   \n",
       "2014-06-28                     176                     94   \n",
       "2014-06-29                     167                     92   \n",
       "2014-06-17                      97                     59   \n",
       "2014-05-23                     122                     63   \n",
       "2014-06-15                     147                     91   \n",
       "2014-05-25                     187                     61   \n",
       "2014-06-05                     114                     68   \n",
       "2014-07-05                      96                     58   \n",
       "2014-06-30                     162                     52   \n",
       "2014-07-04                     171                     61   \n",
       "2014-06-16                      89                     56   \n",
       "2014-06-11                      85                     45   \n",
       "2014-06-07                     182                     81   \n",
       "2014-07-09                     100                     62   \n",
       "2014-06-23                      82                     48   \n",
       "2014-06-01                     273                     55   \n",
       "2014-05-30                     195                     43   \n",
       "2014-06-02                     209                     29   \n",
       "2014-06-18                      78                     37   \n",
       "2014-07-06                     169                     37   \n",
       "2014-06-19                      88                     37   \n",
       "2014-05-31                     204                     22   \n",
       "\n",
       "            Minutes Very Active  Activity Calories  \n",
       "Date                                                \n",
       "2014-06-27                  101             1727.0  \n",
       "2014-07-01                   95             1679.0  \n",
       "2014-05-29                   98             1695.0  \n",
       "2014-06-06                   94             1564.0  \n",
       "2014-06-14                   31             1845.0  \n",
       "2014-06-13                   85             1659.0  \n",
       "2014-05-22                   74             1351.0  \n",
       "2014-06-24                   73             1511.0  \n",
       "2014-06-10                   68             1405.0  \n",
       "2014-07-03                   76             1367.0  \n",
       "2014-06-25                   39             1164.0  \n",
       "2014-06-04                   50             1158.0  \n",
       "2014-05-24                   48             1280.0  \n",
       "2014-05-27                   81             1357.0  \n",
       "2014-05-26                   26             1546.0  \n",
       "2014-06-03                   51             1119.0  \n",
       "2014-05-28                   38              991.0  \n",
       "2014-07-07                   30             1082.0  \n",
       "2014-07-10                   54             1053.0  \n",
       "2014-06-08                   23              931.0  \n",
       "2014-06-21                   22             1081.0  \n",
       "2014-07-02                   10              914.0  \n",
       "2014-06-22                   14             1070.0  \n",
       "2014-07-08                   16              838.0  \n",
       "2014-06-09                   27              751.0  \n",
       "2014-06-20                   25              859.0  \n",
       "2014-06-12                   30              724.0  \n",
       "2014-06-26                   20              803.0  \n",
       "2014-06-28                    1              981.0  \n",
       "2014-06-29                    8             1027.0  \n",
       "2014-06-17                   31              854.0  \n",
       "2014-05-23                   23              867.0  \n",
       "2014-06-15                   14             1033.0  \n",
       "2014-05-25                   11              932.0  \n",
       "2014-06-05                   28              915.0  \n",
       "2014-07-05                   13              670.0  \n",
       "2014-06-30                   23              956.0  \n",
       "2014-07-04                    7              871.0  \n",
       "2014-06-16                   14              661.0  \n",
       "2014-06-11                   24              677.0  \n",
       "2014-06-07                    0              924.0  \n",
       "2014-07-09                   10              694.0  \n",
       "2014-06-23                   22              671.0  \n",
       "2014-06-01                    0             1069.0  \n",
       "2014-05-30                    6              832.0  \n",
       "2014-06-02                    5              814.0  \n",
       "2014-06-18                    8              478.0  \n",
       "2014-07-06                    3              705.0  \n",
       "2014-06-19                    4              479.0  \n",
       "2014-05-31                    0              709.0  "
      ]
     },
     "execution_count": 36,
     "metadata": {},
     "output_type": "execute_result"
    }
   ],
   "source": [
    "df.sort_values(by='Steps',ascending=False)"
   ]
  },
  {
   "cell_type": "markdown",
   "metadata": {},
   "source": [
    "## Selecting Data"
   ]
  },
  {
   "cell_type": "code",
   "execution_count": 37,
   "metadata": {},
   "outputs": [
    {
     "data": {
      "text/plain": [
       "Date\n",
       "2014-05-22    74\n",
       "2014-05-23    23\n",
       "2014-05-24    48\n",
       "2014-05-25    11\n",
       "2014-05-26    26\n",
       "2014-05-27    81\n",
       "2014-05-28    38\n",
       "2014-05-29    98\n",
       "2014-05-30     6\n",
       "2014-05-31     0\n",
       "Name: Minutes Very Active, dtype: int64"
      ]
     },
     "execution_count": 37,
     "metadata": {},
     "output_type": "execute_result"
    }
   ],
   "source": [
    "df['Minutes Very Active'].head(10)"
   ]
  },
  {
   "cell_type": "code",
   "execution_count": 38,
   "metadata": {},
   "outputs": [
    {
     "data": {
      "text/html": [
       "<div>\n",
       "<style scoped>\n",
       "    .dataframe tbody tr th:only-of-type {\n",
       "        vertical-align: middle;\n",
       "    }\n",
       "\n",
       "    .dataframe tbody tr th {\n",
       "        vertical-align: top;\n",
       "    }\n",
       "\n",
       "    .dataframe thead th {\n",
       "        text-align: right;\n",
       "    }\n",
       "</style>\n",
       "<table border=\"1\" class=\"dataframe\">\n",
       "  <thead>\n",
       "    <tr style=\"text-align: right;\">\n",
       "      <th></th>\n",
       "      <th>Calories Burned</th>\n",
       "      <th>Steps</th>\n",
       "      <th>Distance</th>\n",
       "      <th>Floors</th>\n",
       "      <th>Minutes Sedentary</th>\n",
       "      <th>Minutes Lightly Active</th>\n",
       "      <th>Minutes Fairly Active</th>\n",
       "      <th>Minutes Very Active</th>\n",
       "      <th>Activity Calories</th>\n",
       "    </tr>\n",
       "    <tr>\n",
       "      <th>Date</th>\n",
       "      <th></th>\n",
       "      <th></th>\n",
       "      <th></th>\n",
       "      <th></th>\n",
       "      <th></th>\n",
       "      <th></th>\n",
       "      <th></th>\n",
       "      <th></th>\n",
       "      <th></th>\n",
       "    </tr>\n",
       "  </thead>\n",
       "  <tbody>\n",
       "    <tr>\n",
       "      <th>2014-06-04</th>\n",
       "      <td>2592.0</td>\n",
       "      <td>13188.0</td>\n",
       "      <td>6.05</td>\n",
       "      <td>18</td>\n",
       "      <td>742.0</td>\n",
       "      <td>87</td>\n",
       "      <td>90</td>\n",
       "      <td>50</td>\n",
       "      <td>1158.0</td>\n",
       "    </tr>\n",
       "    <tr>\n",
       "      <th>2014-06-05</th>\n",
       "      <td>2369.0</td>\n",
       "      <td>7821.0</td>\n",
       "      <td>3.62</td>\n",
       "      <td>10</td>\n",
       "      <td>725.0</td>\n",
       "      <td>114</td>\n",
       "      <td>68</td>\n",
       "      <td>28</td>\n",
       "      <td>915.0</td>\n",
       "    </tr>\n",
       "    <tr>\n",
       "      <th>2014-06-06</th>\n",
       "      <td>2954.0</td>\n",
       "      <td>18470.0</td>\n",
       "      <td>8.47</td>\n",
       "      <td>4</td>\n",
       "      <td>655.0</td>\n",
       "      <td>83</td>\n",
       "      <td>87</td>\n",
       "      <td>94</td>\n",
       "      <td>1564.0</td>\n",
       "    </tr>\n",
       "    <tr>\n",
       "      <th>2014-06-07</th>\n",
       "      <td>2315.0</td>\n",
       "      <td>6695.0</td>\n",
       "      <td>3.07</td>\n",
       "      <td>22</td>\n",
       "      <td>736.0</td>\n",
       "      <td>182</td>\n",
       "      <td>81</td>\n",
       "      <td>0</td>\n",
       "      <td>924.0</td>\n",
       "    </tr>\n",
       "    <tr>\n",
       "      <th>2014-06-08</th>\n",
       "      <td>2378.0</td>\n",
       "      <td>10506.0</td>\n",
       "      <td>4.82</td>\n",
       "      <td>29</td>\n",
       "      <td>660.0</td>\n",
       "      <td>110</td>\n",
       "      <td>83</td>\n",
       "      <td>23</td>\n",
       "      <td>931.0</td>\n",
       "    </tr>\n",
       "    <tr>\n",
       "      <th>2014-06-09</th>\n",
       "      <td>2265.0</td>\n",
       "      <td>9273.0</td>\n",
       "      <td>4.27</td>\n",
       "      <td>11</td>\n",
       "      <td>738.0</td>\n",
       "      <td>69</td>\n",
       "      <td>64</td>\n",
       "      <td>27</td>\n",
       "      <td>751.0</td>\n",
       "    </tr>\n",
       "    <tr>\n",
       "      <th>2014-06-10</th>\n",
       "      <td>2790.0</td>\n",
       "      <td>14267.0</td>\n",
       "      <td>6.54</td>\n",
       "      <td>10</td>\n",
       "      <td>651.0</td>\n",
       "      <td>123</td>\n",
       "      <td>78</td>\n",
       "      <td>68</td>\n",
       "      <td>1405.0</td>\n",
       "    </tr>\n",
       "    <tr>\n",
       "      <th>2014-06-11</th>\n",
       "      <td>2198.0</td>\n",
       "      <td>6831.0</td>\n",
       "      <td>3.13</td>\n",
       "      <td>17</td>\n",
       "      <td>816.0</td>\n",
       "      <td>85</td>\n",
       "      <td>45</td>\n",
       "      <td>24</td>\n",
       "      <td>677.0</td>\n",
       "    </tr>\n",
       "  </tbody>\n",
       "</table>\n",
       "</div>"
      ],
      "text/plain": [
       "            Calories Burned    Steps  Distance  Floors  Minutes Sedentary  \\\n",
       "Date                                                                        \n",
       "2014-06-04           2592.0  13188.0      6.05      18              742.0   \n",
       "2014-06-05           2369.0   7821.0      3.62      10              725.0   \n",
       "2014-06-06           2954.0  18470.0      8.47       4              655.0   \n",
       "2014-06-07           2315.0   6695.0      3.07      22              736.0   \n",
       "2014-06-08           2378.0  10506.0      4.82      29              660.0   \n",
       "2014-06-09           2265.0   9273.0      4.27      11              738.0   \n",
       "2014-06-10           2790.0  14267.0      6.54      10              651.0   \n",
       "2014-06-11           2198.0   6831.0      3.13      17              816.0   \n",
       "\n",
       "            Minutes Lightly Active  Minutes Fairly Active  \\\n",
       "Date                                                        \n",
       "2014-06-04                      87                     90   \n",
       "2014-06-05                     114                     68   \n",
       "2014-06-06                      83                     87   \n",
       "2014-06-07                     182                     81   \n",
       "2014-06-08                     110                     83   \n",
       "2014-06-09                      69                     64   \n",
       "2014-06-10                     123                     78   \n",
       "2014-06-11                      85                     45   \n",
       "\n",
       "            Minutes Very Active  Activity Calories  \n",
       "Date                                                \n",
       "2014-06-04                   50             1158.0  \n",
       "2014-06-05                   28              915.0  \n",
       "2014-06-06                   94             1564.0  \n",
       "2014-06-07                    0              924.0  \n",
       "2014-06-08                   23              931.0  \n",
       "2014-06-09                   27              751.0  \n",
       "2014-06-10                   68             1405.0  \n",
       "2014-06-11                   24              677.0  "
      ]
     },
     "execution_count": 38,
     "metadata": {},
     "output_type": "execute_result"
    }
   ],
   "source": [
    "df[13:21]  # show rows 13-20"
   ]
  },
  {
   "cell_type": "markdown",
   "metadata": {},
   "source": [
    "While the bracket-based Numpy-like indexing scheme above works, it is generally recommended to make use of the .at, .iat, .loc and .iloc and methods as they are optimized with performance and reliability in mind. The .loc method requires a label-based index for selecting data, while .iloc expects an integer-based index."
   ]
  },
  {
   "cell_type": "code",
   "execution_count": 39,
   "metadata": {},
   "outputs": [
    {
     "data": {
      "text/plain": [
       "Calories Burned            2763.00\n",
       "Steps                     15072.00\n",
       "Distance                      6.96\n",
       "Floors                       14.00\n",
       "Minutes Sedentary          1120.00\n",
       "Minutes Lightly Active       95.00\n",
       "Minutes Fairly Active        77.00\n",
       "Minutes Very Active          74.00\n",
       "Activity Calories          1351.00\n",
       "Name: 2014-05-22 00:00:00, dtype: float64"
      ]
     },
     "execution_count": 39,
     "metadata": {},
     "output_type": "execute_result"
    }
   ],
   "source": [
    "df.loc['2014-05-22']"
   ]
  },
  {
   "cell_type": "code",
   "execution_count": 40,
   "metadata": {},
   "outputs": [
    {
     "data": {
      "text/plain": [
       "Calories Burned            2763.00\n",
       "Steps                     15072.00\n",
       "Distance                      6.96\n",
       "Floors                       14.00\n",
       "Minutes Sedentary          1120.00\n",
       "Minutes Lightly Active       95.00\n",
       "Minutes Fairly Active        77.00\n",
       "Minutes Very Active          74.00\n",
       "Activity Calories          1351.00\n",
       "Name: 2014-05-22 00:00:00, dtype: float64"
      ]
     },
     "execution_count": 40,
     "metadata": {},
     "output_type": "execute_result"
    }
   ],
   "source": [
    "df.iloc[0]"
   ]
  },
  {
   "cell_type": "code",
   "execution_count": 41,
   "metadata": {},
   "outputs": [
    {
     "data": {
      "text/html": [
       "<div>\n",
       "<style scoped>\n",
       "    .dataframe tbody tr th:only-of-type {\n",
       "        vertical-align: middle;\n",
       "    }\n",
       "\n",
       "    .dataframe tbody tr th {\n",
       "        vertical-align: top;\n",
       "    }\n",
       "\n",
       "    .dataframe thead th {\n",
       "        text-align: right;\n",
       "    }\n",
       "</style>\n",
       "<table border=\"1\" class=\"dataframe\">\n",
       "  <thead>\n",
       "    <tr style=\"text-align: right;\">\n",
       "      <th></th>\n",
       "      <th>Steps</th>\n",
       "      <th>Floors</th>\n",
       "    </tr>\n",
       "    <tr>\n",
       "      <th>Date</th>\n",
       "      <th></th>\n",
       "      <th></th>\n",
       "    </tr>\n",
       "  </thead>\n",
       "  <tbody>\n",
       "    <tr>\n",
       "      <th>2014-05-22</th>\n",
       "      <td>15072.0</td>\n",
       "      <td>14</td>\n",
       "    </tr>\n",
       "    <tr>\n",
       "      <th>2014-05-23</th>\n",
       "      <td>8306.0</td>\n",
       "      <td>9</td>\n",
       "    </tr>\n",
       "    <tr>\n",
       "      <th>2014-05-24</th>\n",
       "      <td>13103.0</td>\n",
       "      <td>50</td>\n",
       "    </tr>\n",
       "    <tr>\n",
       "      <th>2014-05-25</th>\n",
       "      <td>7992.0</td>\n",
       "      <td>16</td>\n",
       "    </tr>\n",
       "    <tr>\n",
       "      <th>2014-05-26</th>\n",
       "      <td>12727.0</td>\n",
       "      <td>19</td>\n",
       "    </tr>\n",
       "  </tbody>\n",
       "</table>\n",
       "</div>"
      ],
      "text/plain": [
       "              Steps  Floors\n",
       "Date                       \n",
       "2014-05-22  15072.0      14\n",
       "2014-05-23   8306.0       9\n",
       "2014-05-24  13103.0      50\n",
       "2014-05-25   7992.0      16\n",
       "2014-05-26  12727.0      19"
      ]
     },
     "execution_count": 41,
     "metadata": {},
     "output_type": "execute_result"
    }
   ],
   "source": [
    "df.loc[:, ['Steps', 'Floors']].head()  # select all indices (dates), with two columns"
   ]
  },
  {
   "cell_type": "markdown",
   "metadata": {},
   "source": [
    "Excercises: \n",
    "* Use df.loc to select data between May 24 - 29 with Columns \"Distance\" and \"Minutes Sedentary\"\n",
    "* Use df.loc to select data from June 17 onwards with Columns \"Floors\" and \"Activity Calories\"\n",
    "* Use df.iloc for selecting rows 2-5 and Columns 3-6"
   ]
  },
  {
   "cell_type": "markdown",
   "metadata": {},
   "source": [
    "If you just want to retrive a single scalar value from your dataframe, use the df.at and df.iat methods for speed:"
   ]
  },
  {
   "cell_type": "code",
   "execution_count": 42,
   "metadata": {},
   "outputs": [
    {
     "name": "stdout",
     "output_type": "stream",
     "text": [
      "CPU times: user 141 µs, sys: 0 ns, total: 141 µs\n",
      "Wall time: 147 µs\n"
     ]
    },
    {
     "data": {
      "text/plain": [
       "3.81"
      ]
     },
     "execution_count": 42,
     "metadata": {},
     "output_type": "execute_result"
    }
   ],
   "source": [
    "%%time\n",
    "df.iat[1,2]"
   ]
  },
  {
   "cell_type": "code",
   "execution_count": 43,
   "metadata": {},
   "outputs": [
    {
     "name": "stdout",
     "output_type": "stream",
     "text": [
      "CPU times: user 37 µs, sys: 6 µs, total: 43 µs\n",
      "Wall time: 47 µs\n"
     ]
    },
    {
     "data": {
      "text/plain": [
       "3.81"
      ]
     },
     "execution_count": 43,
     "metadata": {},
     "output_type": "execute_result"
    }
   ],
   "source": [
    "%%time\n",
    "df.iloc[1,2]"
   ]
  },
  {
   "cell_type": "markdown",
   "metadata": {},
   "source": [
    "You can also select data based on boolean operations:"
   ]
  },
  {
   "cell_type": "code",
   "execution_count": 44,
   "metadata": {},
   "outputs": [
    {
     "data": {
      "text/html": [
       "<div>\n",
       "<style scoped>\n",
       "    .dataframe tbody tr th:only-of-type {\n",
       "        vertical-align: middle;\n",
       "    }\n",
       "\n",
       "    .dataframe tbody tr th {\n",
       "        vertical-align: top;\n",
       "    }\n",
       "\n",
       "    .dataframe thead th {\n",
       "        text-align: right;\n",
       "    }\n",
       "</style>\n",
       "<table border=\"1\" class=\"dataframe\">\n",
       "  <thead>\n",
       "    <tr style=\"text-align: right;\">\n",
       "      <th></th>\n",
       "      <th>Calories Burned</th>\n",
       "      <th>Steps</th>\n",
       "      <th>Distance</th>\n",
       "      <th>Floors</th>\n",
       "      <th>Minutes Sedentary</th>\n",
       "      <th>Minutes Lightly Active</th>\n",
       "      <th>Minutes Fairly Active</th>\n",
       "      <th>Minutes Very Active</th>\n",
       "      <th>Activity Calories</th>\n",
       "    </tr>\n",
       "    <tr>\n",
       "      <th>Date</th>\n",
       "      <th></th>\n",
       "      <th></th>\n",
       "      <th></th>\n",
       "      <th></th>\n",
       "      <th></th>\n",
       "      <th></th>\n",
       "      <th></th>\n",
       "      <th></th>\n",
       "      <th></th>\n",
       "    </tr>\n",
       "  </thead>\n",
       "  <tbody>\n",
       "    <tr>\n",
       "      <th>2014-05-22</th>\n",
       "      <td>2763.0</td>\n",
       "      <td>15072.0</td>\n",
       "      <td>6.96</td>\n",
       "      <td>14</td>\n",
       "      <td>1120.0</td>\n",
       "      <td>95</td>\n",
       "      <td>77</td>\n",
       "      <td>74</td>\n",
       "      <td>1351.0</td>\n",
       "    </tr>\n",
       "    <tr>\n",
       "      <th>2014-05-29</th>\n",
       "      <td>3056.0</td>\n",
       "      <td>19463.0</td>\n",
       "      <td>8.93</td>\n",
       "      <td>3</td>\n",
       "      <td>624.0</td>\n",
       "      <td>91</td>\n",
       "      <td>100</td>\n",
       "      <td>98</td>\n",
       "      <td>1695.0</td>\n",
       "    </tr>\n",
       "    <tr>\n",
       "      <th>2014-06-06</th>\n",
       "      <td>2954.0</td>\n",
       "      <td>18470.0</td>\n",
       "      <td>8.47</td>\n",
       "      <td>4</td>\n",
       "      <td>655.0</td>\n",
       "      <td>83</td>\n",
       "      <td>87</td>\n",
       "      <td>94</td>\n",
       "      <td>1564.0</td>\n",
       "    </tr>\n",
       "    <tr>\n",
       "      <th>2014-06-13</th>\n",
       "      <td>2970.0</td>\n",
       "      <td>16158.0</td>\n",
       "      <td>7.43</td>\n",
       "      <td>3</td>\n",
       "      <td>661.0</td>\n",
       "      <td>179</td>\n",
       "      <td>67</td>\n",
       "      <td>85</td>\n",
       "      <td>1659.0</td>\n",
       "    </tr>\n",
       "    <tr>\n",
       "      <th>2014-06-14</th>\n",
       "      <td>3026.0</td>\n",
       "      <td>17984.0</td>\n",
       "      <td>8.25</td>\n",
       "      <td>10</td>\n",
       "      <td>498.0</td>\n",
       "      <td>233</td>\n",
       "      <td>177</td>\n",
       "      <td>31</td>\n",
       "      <td>1845.0</td>\n",
       "    </tr>\n",
       "    <tr>\n",
       "      <th>2014-06-27</th>\n",
       "      <td>3084.0</td>\n",
       "      <td>20417.0</td>\n",
       "      <td>9.40</td>\n",
       "      <td>5</td>\n",
       "      <td>650.0</td>\n",
       "      <td>86</td>\n",
       "      <td>105</td>\n",
       "      <td>101</td>\n",
       "      <td>1727.0</td>\n",
       "    </tr>\n",
       "    <tr>\n",
       "      <th>2014-07-01</th>\n",
       "      <td>3030.0</td>\n",
       "      <td>19928.0</td>\n",
       "      <td>9.16</td>\n",
       "      <td>17</td>\n",
       "      <td>1039.0</td>\n",
       "      <td>100</td>\n",
       "      <td>103</td>\n",
       "      <td>95</td>\n",
       "      <td>1679.0</td>\n",
       "    </tr>\n",
       "  </tbody>\n",
       "</table>\n",
       "</div>"
      ],
      "text/plain": [
       "            Calories Burned    Steps  Distance  Floors  Minutes Sedentary  \\\n",
       "Date                                                                        \n",
       "2014-05-22           2763.0  15072.0      6.96      14             1120.0   \n",
       "2014-05-29           3056.0  19463.0      8.93       3              624.0   \n",
       "2014-06-06           2954.0  18470.0      8.47       4              655.0   \n",
       "2014-06-13           2970.0  16158.0      7.43       3              661.0   \n",
       "2014-06-14           3026.0  17984.0      8.25      10              498.0   \n",
       "2014-06-27           3084.0  20417.0      9.40       5              650.0   \n",
       "2014-07-01           3030.0  19928.0      9.16      17             1039.0   \n",
       "\n",
       "            Minutes Lightly Active  Minutes Fairly Active  \\\n",
       "Date                                                        \n",
       "2014-05-22                      95                     77   \n",
       "2014-05-29                      91                    100   \n",
       "2014-06-06                      83                     87   \n",
       "2014-06-13                     179                     67   \n",
       "2014-06-14                     233                    177   \n",
       "2014-06-27                      86                    105   \n",
       "2014-07-01                     100                    103   \n",
       "\n",
       "            Minutes Very Active  Activity Calories  \n",
       "Date                                                \n",
       "2014-05-22                   74             1351.0  \n",
       "2014-05-29                   98             1695.0  \n",
       "2014-06-06                   94             1564.0  \n",
       "2014-06-13                   85             1659.0  \n",
       "2014-06-14                   31             1845.0  \n",
       "2014-06-27                  101             1727.0  \n",
       "2014-07-01                   95             1679.0  "
      ]
     },
     "execution_count": 44,
     "metadata": {},
     "output_type": "execute_result"
    }
   ],
   "source": [
    "df[df.Steps > 15000]"
   ]
  },
  {
   "cell_type": "code",
   "execution_count": 45,
   "metadata": {},
   "outputs": [
    {
     "data": {
      "text/plain": [
       "Date\n",
       "2014-05-22    1351.0\n",
       "2014-05-29    1695.0\n",
       "2014-06-06    1564.0\n",
       "2014-06-13    1659.0\n",
       "2014-06-14    1845.0\n",
       "2014-06-27    1727.0\n",
       "2014-07-01    1679.0\n",
       "Name: Activity Calories, dtype: float64"
      ]
     },
     "execution_count": 45,
     "metadata": {},
     "output_type": "execute_result"
    }
   ],
   "source": [
    "df[df.Steps > 15000]['Activity Calories']"
   ]
  },
  {
   "cell_type": "markdown",
   "metadata": {},
   "source": [
    "## Plotting"
   ]
  },
  {
   "cell_type": "code",
   "execution_count": 46,
   "metadata": {},
   "outputs": [
    {
     "data": {
      "text/plain": [
       "<matplotlib.axes._subplots.AxesSubplot at 0x7fac11a9a400>"
      ]
     },
     "execution_count": 46,
     "metadata": {},
     "output_type": "execute_result"
    },
    {
     "data": {
      "image/png": "[encoded data removed]",
      "text/plain": [
       "<Figure size 432x288 with 1 Axes>"
      ]
     },
     "metadata": {
      "needs_background": "light"
     },
     "output_type": "display_data"
    }
   ],
   "source": [
    "%matplotlib inline\n",
    "df.plot()"
   ]
  },
  {
   "cell_type": "code",
   "execution_count": 47,
   "metadata": {},
   "outputs": [
    {
     "data": {
      "text/plain": [
       "[Text(0,0,'2014-05-22 00:00:00'),\n",
       " Text(0,0,'2014-05-27 00:00:00'),\n",
       " Text(0,0,'2014-06-01 00:00:00'),\n",
       " Text(0,0,'2014-06-06 00:00:00'),\n",
       " Text(0,0,'2014-06-11 00:00:00'),\n",
       " Text(0,0,'2014-06-16 00:00:00'),\n",
       " Text(0,0,'2014-06-21 00:00:00'),\n",
       " Text(0,0,'2014-06-26 00:00:00'),\n",
       " Text(0,0,'2014-07-01 00:00:00'),\n",
       " Text(0,0,'2014-07-06 00:00:00')]"
      ]
     },
     "execution_count": 47,
     "metadata": {},
     "output_type": "execute_result"
    },
    {
     "data": {
      "image/png": "[encoded data removed]",
      "text/plain": [
       "<Figure size 432x288 with 1 Axes>"
      ]
     },
     "metadata": {
      "needs_background": "light"
     },
     "output_type": "display_data"
    }
   ],
   "source": [
    "ax = df.plot(y=\"Distance\",kind=\"bar\",stacked=\"stacked\",rot=45)\n",
    "n = 5\n",
    "ticks = ax.xaxis.get_ticklocs()\n",
    "ticklabels = [l.get_text() for l in ax.xaxis.get_ticklabels()]\n",
    "ax.xaxis.set_ticks(ticks[::n])\n",
    "ax.xaxis.set_ticklabels(ticklabels[::n])"
   ]
  },
  {
   "cell_type": "code",
   "execution_count": 48,
   "metadata": {},
   "outputs": [
    {
     "data": {
      "image/png": "[encoded data removed]",
      "text/plain": [
       "<Figure size 432x288 with 1 Axes>"
      ]
     },
     "metadata": {
      "needs_background": "light"
     },
     "output_type": "display_data"
    }
   ],
   "source": [
    "ax = df.plot(x=\"Steps\",y=\"Distance\",kind=\"scatter\",style=['o','rx'])"
   ]
  },
  {
   "cell_type": "code",
   "execution_count": null,
   "metadata": {},
   "outputs": [],
   "source": []
  }
 ],
 "metadata": {
  "kernelspec": {
   "display_name": "numpy_pandas",
   "language": "python",
   "name": "numpy_pandas"
  },
  "language_info": {
   "codemirror_mode": {
    "name": "ipython",
    "version": 3
   },
   "file_extension": ".py",
   "mimetype": "text/x-python",
   "name": "python",
   "nbconvert_exporter": "python",
   "pygments_lexer": "ipython3",
   "version": "3.4.9"
  }
 },
 "nbformat": 4,
 "nbformat_minor": 2
}
